{
 "cells": [
  {
   "cell_type": "markdown",
   "metadata": {},
   "source": [
    "# 1. Import Dependencies"
   ]
  },
  {
   "cell_type": "code",
   "execution_count": 1,
   "metadata": {},
   "outputs": [],
   "source": [
    "import matplotlib.pyplot as plt\n",
    "import tensorflow as tf\n",
    "import numpy as np\n",
    "from tensorflow import keras\n",
    "from tensorflow.keras import layers\n",
    "import os\n",
    "import time\n"
   ]
  },
  {
   "cell_type": "markdown",
   "metadata": {},
   "source": [
    "## Loading Dataset"
   ]
  },
  {
   "cell_type": "code",
   "execution_count": 2,
   "metadata": {},
   "outputs": [],
   "source": [
    "(train_images, train_labels), (test_images, test_labels) = tf.keras.datasets.mnist.load_data()"
   ]
  },
  {
   "cell_type": "markdown",
   "metadata": {},
   "source": [
    "The training and testing datasets are loaded into seperate numpy arrays.\n",
    "\n",
    "We are interested in generating a single digit, for example 5, so we extract all images containing 5 from the dataset."
   ]
  },
  {
   "cell_type": "code",
   "execution_count": 3,
   "metadata": {},
   "outputs": [
    {
     "data": {
      "text/plain": [
       "(5421, 28, 28)"
      ]
     },
     "execution_count": 3,
     "metadata": {},
     "output_type": "execute_result"
    }
   ],
   "source": [
    "digit5_images = []\n",
    "for i in range(len(train_images)):\n",
    "    if train_labels[i] == 5:\n",
    "        digit5_images.append(train_images[i])\n",
    "train_images = np.array(digit5_images)\n",
    "train_images.shape\n",
    "\n",
    "# The output shape is (5421, 28, 28) so we have 5421 images of size 28 x 28 "
   ]
  },
  {
   "cell_type": "code",
   "execution_count": 4,
   "metadata": {},
   "outputs": [
    {
     "data": {
      "image/png": "[encoded data removed]",
      "text/plain": [
       "<Figure size 432x288 with 10 Axes>"
      ]
     },
     "metadata": {
      "needs_background": "light"
     },
     "output_type": "display_data"
    }
   ],
   "source": [
    "# Verify we only have images contianing the digit 5\n",
    "\n",
    "n= 10\n",
    "f = plt.figure()\n",
    "for i in range(n):\n",
    "    f.add_subplot(1, n, i+1)\n",
    "    plt.subplot(1, n, i+1).axis('off')\n",
    "    plt.imshow(train_images[i])\n",
    "plt.show()"
   ]
  },
  {
   "cell_type": "markdown",
   "metadata": {},
   "source": [
    "### Preparing Dataset"
   ]
  },
  {
   "cell_type": "code",
   "execution_count": 5,
   "metadata": {},
   "outputs": [],
   "source": [
    "# First we reshaped the data \n",
    "train_images = train_images.reshape(\n",
    "    train_images.shape[0], 28, 28, 1).astype('float32')\n",
    "\n",
    "# As each colour in the images is in the range from 0 to 256, we normalise the values between -1 and 1.\n",
    "# The mean is 127.5 and the numbers are normalised as follows:\n",
    "\n",
    "train_images = (train_images - 127.5) / 127.5\n",
    "\n",
    "# We crate a batch dataset for training by calling the from_tensor_slices method\n",
    "\n",
    "train_dataset = tf.data.Dataset.from_tensor_slices(train_images).shuffle(train_images.shape[0]).batch(32)"
   ]
  },
  {
   "cell_type": "markdown",
   "metadata": {},
   "source": [
    "### Defining a Generator Model\n",
    "The generator's purpose is to create images containing the digit 5 which look similar to the images in our training dataset."
   ]
  },
  {
   "cell_type": "code",
   "execution_count": 6,
   "metadata": {},
   "outputs": [
    {
     "name": "stdout",
     "output_type": "stream",
     "text": [
      "Model: \"sequential\"\n",
      "_________________________________________________________________\n",
      " Layer (type)                Output Shape              Param #   \n",
      "=================================================================\n",
      " dense (Dense)               (None, 12544)             1254400   \n",
      "                                                                 \n",
      " batch_normalization (BatchN  (None, 12544)            50176     \n",
      " ormalization)                                                   \n",
      "                                                                 \n",
      " leaky_re_lu (LeakyReLU)     (None, 12544)             0         \n",
      "                                                                 \n",
      " reshape (Reshape)           (None, 7, 7, 256)         0         \n",
      "                                                                 \n",
      " conv2d_transpose (Conv2DTra  (None, 7, 7, 128)        819200    \n",
      " nspose)                                                         \n",
      "                                                                 \n",
      " batch_normalization_1 (Batc  (None, 7, 7, 128)        512       \n",
      " hNormalization)                                                 \n",
      "                                                                 \n",
      " leaky_re_lu_1 (LeakyReLU)   (None, 7, 7, 128)         0         \n",
      "                                                                 \n",
      " conv2d_transpose_1 (Conv2DT  (None, 14, 14, 64)       204800    \n",
      " ranspose)                                                       \n",
      "                                                                 \n",
      " batch_normalization_2 (Batc  (None, 14, 14, 64)       256       \n",
      " hNormalization)                                                 \n",
      "                                                                 \n",
      " leaky_re_lu_2 (LeakyReLU)   (None, 14, 14, 64)        0         \n",
      "                                                                 \n",
      " conv2d_transpose_2 (Conv2DT  (None, 28, 28, 1)        1600      \n",
      " ranspose)                                                       \n",
      "                                                                 \n",
      "=================================================================\n",
      "Total params: 2,330,944\n",
      "Trainable params: 2,305,472\n",
      "Non-trainable params: 25,472\n",
      "_________________________________________________________________\n"
     ]
    }
   ],
   "source": [
    "# Creating a Keras sequential model\n",
    "\n",
    "gen_model = tf.keras.Sequential()\n",
    "\n",
    "# Add a dense layer as the first layer\n",
    "gen_model.add(tf.keras.layers.Dense(7*7*256, use_bias=False, input_shape=(100,)))\n",
    "# The input to this layer has been specified as 100 because later a noise vector of dimension 100 will\n",
    "# will be used as an input to this GAN model.\n",
    "\n",
    "# Next add a batch normalization layer to the model for providing stability.\n",
    "gen_model.add(tf.keras.layers.BatchNormalization())\n",
    "gen_model.add(tf.keras.layers.LeakyReLU())\n",
    "\n",
    "#  Reshape the output to 7x7x256\n",
    "gen_model.add(tf.keras.layers.Reshape((7, 7, 256)))\n",
    "\n",
    "# Use a Conv2D layer to upscale the generated image\n",
    "gen_model.add(tf.keras.layers.Conv2DTranspose(\n",
    "    128, (5, 5),\n",
    "    strides = (1,1),\n",
    "    padding = 'same',\n",
    "    use_bias = False))\n",
    "\n",
    "# Batch normalization and activation layers as before\n",
    "gen_model.add(tf.keras.layers.BatchNormalization())\n",
    "gen_model.add(tf.keras.layers.LeakyReLU())\n",
    "\n",
    "# Next a Conv2DTrasnpose layer with strides set to (2,2) is added followed by the batch normalization \n",
    "# and activation layers\n",
    "gen_model.add(tf.keras.layers.Conv2DTranspose(\n",
    "    64, (5 ,5),\n",
    "    strides = (2,2),\n",
    "    padding='same',\n",
    "    use_bias=False))\n",
    "\n",
    "gen_model.add(tf.keras.layers.BatchNormalization())\n",
    "gen_model.add(tf.keras.layers.LeakyReLU())\n",
    "\n",
    "# The final Conv 2D layer with strides queal to (2,2) is now added, further upscaling the image size to 28x28\n",
    "gen_model.add(tf.keras.layers.Conv2DTranspose(\n",
    "    1, (5,5),\n",
    "    strides=(2,2),\n",
    "    padding='same',\n",
    "    use_bias=False,\n",
    "    activation='tanh'))\n",
    "\n",
    "gen_model.summary()"
   ]
  },
  {
   "cell_type": "markdown",
   "metadata": {},
   "source": [
    "### Testing Generator"
   ]
  },
  {
   "cell_type": "code",
   "execution_count": 7,
   "metadata": {},
   "outputs": [
    {
     "data": {
      "text/plain": [
       "<matplotlib.image.AxesImage at 0x247f20ef880>"
      ]
     },
     "execution_count": 7,
     "metadata": {},
     "output_type": "execute_result"
    },
    {
     "data": {
      "image/png": "[encoded data removed]",
      "text/plain": [
       "<Figure size 432x288 with 1 Axes>"
      ]
     },
     "metadata": {
      "needs_background": "light"
     },
     "output_type": "display_data"
    }
   ],
   "source": [
    "# Testing the generator with a random input vector and display it\n",
    "noise = tf.random.normal([1, 100])\n",
    "generated_image = gen_model(noise, training=False)\n",
    "plt.imshow(generated_image[0, :, :, 0], cmap='gray')\n"
   ]
  },
  {
   "cell_type": "code",
   "execution_count": 8,
   "metadata": {},
   "outputs": [
    {
     "data": {
      "text/plain": [
       "TensorShape([1, 28, 28, 1])"
      ]
     },
     "execution_count": 8,
     "metadata": {},
     "output_type": "execute_result"
    }
   ],
   "source": [
    "# Check the shape of the image\n",
    "generated_image.shape"
   ]
  },
  {
   "cell_type": "markdown",
   "metadata": {},
   "source": [
    "### Defining the Discriminator Model"
   ]
  },
  {
   "cell_type": "code",
   "execution_count": 9,
   "metadata": {},
   "outputs": [
    {
     "name": "stdout",
     "output_type": "stream",
     "text": [
      "Model: \"sequential_1\"\n",
      "_________________________________________________________________\n",
      " Layer (type)                Output Shape              Param #   \n",
      "=================================================================\n",
      " conv2d (Conv2D)             (None, 14, 14, 64)        1664      \n",
      "                                                                 \n",
      " leaky_re_lu_3 (LeakyReLU)   (None, 14, 14, 64)        0         \n",
      "                                                                 \n",
      " dropout (Dropout)           (None, 14, 14, 64)        0         \n",
      "                                                                 \n",
      " conv2d_1 (Conv2D)           (None, 7, 7, 128)         204928    \n",
      "                                                                 \n",
      " leaky_re_lu_4 (LeakyReLU)   (None, 7, 7, 128)         0         \n",
      "                                                                 \n",
      " dropout_1 (Dropout)         (None, 7, 7, 128)         0         \n",
      "                                                                 \n",
      " flatten (Flatten)           (None, 6272)              0         \n",
      "                                                                 \n",
      " dense_1 (Dense)             (None, 1)                 6273      \n",
      "                                                                 \n",
      "=================================================================\n",
      "Total params: 212,865\n",
      "Trainable params: 212,865\n",
      "Non-trainable params: 0\n",
      "_________________________________________________________________\n"
     ]
    }
   ],
   "source": [
    "descri_model = tf.keras.Sequential()\n",
    "descri_model.add(tf.keras.layers.Conv2D(\n",
    "    64, (5,5),\n",
    "    strides=(2,2),\n",
    "    padding='same',\n",
    "    input_shape=[28, 28, 1]))\n",
    "\n",
    "descri_model.add(tf.keras.layers.LeakyReLU())\n",
    "descri_model.add(tf.keras.layers.Dropout(0.3))\n",
    "descri_model.add(tf.keras.layers.Conv2D(\n",
    "    128, (5,5),\n",
    "    strides=(2,2),\n",
    "    padding='same'))\n",
    "\n",
    "descri_model.add(tf.keras.layers.LeakyReLU())\n",
    "descri_model.add(tf.keras.layers.Dropout(0.3))\n",
    "descri_model.add(tf.keras.layers.Flatten())\n",
    "descri_model.add(tf.keras.layers.Dense(1))\n",
    "\n",
    "# The descriminator uses just two convolutional layers. The output of the last convolutional layer\n",
    "# is of tyle (batch size, height, width, filters). The Flatten layer in the network flattens this\n",
    "# output to feed it to the last Dense layer in the network.\n",
    "\n",
    "descri_model.summary()"
   ]
  },
  {
   "cell_type": "code",
   "execution_count": 10,
   "metadata": {},
   "outputs": [
    {
     "name": "stdout",
     "output_type": "stream",
     "text": [
      "tf.Tensor([[0.00068314]], shape=(1, 1), dtype=float32)\n"
     ]
    }
   ],
   "source": [
    "# Testing the discriminator\n",
    "\n",
    "decision = descri_model(generated_image)\n",
    "print(decision)"
   ]
  },
  {
   "cell_type": "markdown",
   "metadata": {},
   "source": [
    "## Defining Loss Functions"
   ]
  },
  {
   "cell_type": "code",
   "execution_count": 11,
   "metadata": {},
   "outputs": [],
   "source": [
    "cross_entropy = tf.keras.losses.BinaryCrossentropy(from_logits=True)\n",
    "# Binary cross entropy used as we have two classes (1) for a real image and (0) for a fake one"
   ]
  },
  {
   "cell_type": "code",
   "execution_count": 12,
   "metadata": {},
   "outputs": [],
   "source": [
    "# The generator loss is defined as:\n",
    "def generator_loss(generated_output):\n",
    "    return cross_entropy(tf.ones_like(generated_output), generated_output)"
   ]
  },
  {
   "cell_type": "code",
   "execution_count": 13,
   "metadata": {},
   "outputs": [],
   "source": [
    "# The discriminator loss is defined as:\n",
    "def discriminator_loss(real_output, generated_output):\n",
    "    \n",
    "    # compute the loss considering the image  is real [1, 1, ..., 1]\n",
    "    real_loss = cross_entropy(tf.ones_like(real_output), real_output)\n",
    "\n",
    "    # compute loss considering the image is fake [0, 0, ...,0]\n",
    "    generated_loss = cross_entropy(tf.zeros_like(generated_output), generated_output)\n",
    "\n",
    "    # compute total loss\n",
    "\n",
    "    total_loss = real_loss + generated_loss\n",
    "\n",
    "    return total_loss"
   ]
  },
  {
   "cell_type": "code",
   "execution_count": 14,
   "metadata": {},
   "outputs": [],
   "source": [
    "# Defining the optimizers for both generator and discriminator\n",
    "gen_optimizer = tf.optimizers.Adam(1e-4)\n",
    "descri_optimizer = tf.optimizers.Adam(1e-4)"
   ]
  },
  {
   "cell_type": "code",
   "execution_count": 15,
   "metadata": {},
   "outputs": [],
   "source": [
    "# Defining a few variables for training\n",
    "epoch_number = 0\n",
    "EPOCHS = 2\n",
    "noise_dim = 100\n",
    "seed = tf.random.normal([1, noise_dim])\n"
   ]
  },
  {
   "cell_type": "markdown",
   "metadata": {},
   "source": [
    "## Checkpoint setup\n",
    "As the model training may take a long time intermediate states of the generator and discriminator are saved to a local file"
   ]
  },
  {
   "cell_type": "code",
   "execution_count": 16,
   "metadata": {},
   "outputs": [],
   "source": [
    "checkpoint_dir = '/checkpoints/checkpoint'\n",
    "checkpoint_prefix = os.path.join(checkpoint_dir,'ckpt')\n",
    "\n",
    "checkpoint = tf.train.Checkpoint(generator_optimizer = gen_optimizer, discriminator_optimizer=descri_optimizer,\n",
    "generator=gen_model,\n",
    "discriminator=descri_model)"
   ]
  },
  {
   "cell_type": "markdown",
   "metadata": {},
   "source": [
    "### Model Training Setup\n",
    "Both the generator and discriminator will be trained in several steps. \n",
    "\n",
    "Gradient tape (tf.GradientTape) is used for automatic differentiation on both the generator and discriminator.\n",
    "\n",
    "At each step, a batch of images are given to the function as an input. The discriminator is asked to produce outputs for both the training and generated images. The training output is called as real and the generated image output as fake. The generator loss and discriminator loss is calculated on both the real and fake. Gradient tape is then used to compute the gradients on both losses and the apply the new gradients to the models."
   ]
  },
  {
   "cell_type": "code",
   "execution_count": 21,
   "metadata": {},
   "outputs": [],
   "source": [
    "def gradient_tuning(images):\n",
    "    # create a noise vector\n",
    "    noise = tf.random.normal([16, noise_dim])\n",
    "\n",
    "    #Use gradient tapes for automatic differentiation\n",
    "    with tf.GradientTape() as generator_tape, tf.GradientTape() as discriminator_tape:\n",
    "        \n",
    "        # ask generator to generate random images\n",
    "        generated_images = gen_model(noise, training=True)\n",
    "\n",
    "        # ask discriminator to evaluate real images and generate its output\n",
    "        real_output =   descri_model(images, training=True)\n",
    "\n",
    "        # ask discriminator to do the evaluatiion on generated (fake) images\n",
    "        fake_output = descri_model(generated_images, training=True)\n",
    "        \n",
    "        # calcualte generator loss on fake data\n",
    "        gen_loss = generator_loss(fake_output)\n",
    "\n",
    "        # calculate discriminator loss as defined earlier\n",
    "        disc_loss = discriminator_loss(real_output,fake_output)\n",
    "\n",
    "    # calculate gradients for generator\n",
    "    gen_gradients = generator_tape.gradient(gen_loss, gen_model.trainable_variables)\n",
    "\n",
    "    # calculate gradients for discriminator\n",
    "    discri_gradients = discriminator_tape.gradient(disc_loss, descri_model.trainable_variables)\n",
    "\n",
    "    # use optimizer to process and apply gradients to variables\n",
    "    gen_optimizer.apply_gradients(zip(gen_gradients, gen_model.trainable_variables))\n",
    "\n",
    "    # same as above to discriminator\n",
    "    descri_optimizer.apply_gradients(zip(discri_gradients, descri_model)) \n",
    "\n",
    "\n"
   ]
  },
  {
   "cell_type": "code",
   "execution_count": 22,
   "metadata": {},
   "outputs": [],
   "source": [
    "def generate_and_save_images(model, epoch, test_input):\n",
    "   \n",
    "    global epoch_number\n",
    "    epoch_number = epoch_number + 1\n",
    "   \n",
    "    # set training to false to ensure inference mode predictions\n",
    "    predictions = model(test_input, training=False)\n",
    "\n",
    "    # display and save image\n",
    "    fig = plt.figure(figsize=(4,4))\n",
    "    for i in range(predictions.shape[0]):\n",
    "        plt.imshow(predictions[i, :, :, 0] * 127.5 + 127.5, cmap='gray')\n",
    "    plt.axis('off')\n",
    "\n",
    "    plt.savefig('image_at_epoch_{:01d}.png'.format(epoch_number))\n",
    "    plt.show()\n"
   ]
  },
  {
   "cell_type": "code",
   "execution_count": 23,
   "metadata": {},
   "outputs": [],
   "source": [
    "# model training function\n",
    "def train(dataset, epochs):\n",
    "    for epoch in range(epochs):\n",
    "        start = time.time()\n",
    "\n",
    "        for image_batch in dataset:\n",
    "            gradient_tuning(image_batch)\n",
    "        \n",
    "        # produce images as we go\n",
    "        generate_and_save_images(gen_model, epoch +1, seed)\n",
    "\n",
    "        #save checkpoint data\n",
    "        checkpoint.save(file_prefix = checkpoint_prefix)\n",
    "        print('Time for epoch {} is {} sec'.format(epoch+1, time.time()-start))"
   ]
  },
  {
   "cell_type": "code",
   "execution_count": 24,
   "metadata": {},
   "outputs": [
    {
     "ename": "TypeError",
     "evalue": "'Sequential' object is not iterable",
     "output_type": "error",
     "traceback": [
      "\u001b[1;31m---------------------------------------------------------------------------\u001b[0m",
      "\u001b[1;31mTypeError\u001b[0m                                 Traceback (most recent call last)",
      "\u001b[1;32mc:\\Users\\Matthew\\Dropbox\\T885-2\\GANs\\GAN\\Digit_GAN.ipynb Cell 30\u001b[0m in \u001b[0;36m<cell line: 2>\u001b[1;34m()\u001b[0m\n\u001b[0;32m      <a href='vscode-notebook-cell:/c%3A/Users/Matthew/Dropbox/T885-2/GANs/GAN/Digit_GAN.ipynb#X41sZmlsZQ%3D%3D?line=0'>1</a>\u001b[0m \u001b[39m# The model training is now started with a call to this train method\u001b[39;00m\n\u001b[1;32m----> <a href='vscode-notebook-cell:/c%3A/Users/Matthew/Dropbox/T885-2/GANs/GAN/Digit_GAN.ipynb#X41sZmlsZQ%3D%3D?line=1'>2</a>\u001b[0m train(train_dataset, EPOCHS)\n",
      "\u001b[1;32mc:\\Users\\Matthew\\Dropbox\\T885-2\\GANs\\GAN\\Digit_GAN.ipynb Cell 30\u001b[0m in \u001b[0;36mtrain\u001b[1;34m(dataset, epochs)\u001b[0m\n\u001b[0;32m      <a href='vscode-notebook-cell:/c%3A/Users/Matthew/Dropbox/T885-2/GANs/GAN/Digit_GAN.ipynb#X41sZmlsZQ%3D%3D?line=3'>4</a>\u001b[0m start \u001b[39m=\u001b[39m time\u001b[39m.\u001b[39mtime()\n\u001b[0;32m      <a href='vscode-notebook-cell:/c%3A/Users/Matthew/Dropbox/T885-2/GANs/GAN/Digit_GAN.ipynb#X41sZmlsZQ%3D%3D?line=5'>6</a>\u001b[0m \u001b[39mfor\u001b[39;00m image_batch \u001b[39min\u001b[39;00m dataset:\n\u001b[1;32m----> <a href='vscode-notebook-cell:/c%3A/Users/Matthew/Dropbox/T885-2/GANs/GAN/Digit_GAN.ipynb#X41sZmlsZQ%3D%3D?line=6'>7</a>\u001b[0m     gradient_tuning(image_batch)\n\u001b[0;32m      <a href='vscode-notebook-cell:/c%3A/Users/Matthew/Dropbox/T885-2/GANs/GAN/Digit_GAN.ipynb#X41sZmlsZQ%3D%3D?line=8'>9</a>\u001b[0m \u001b[39m# produce images as we go\u001b[39;00m\n\u001b[0;32m     <a href='vscode-notebook-cell:/c%3A/Users/Matthew/Dropbox/T885-2/GANs/GAN/Digit_GAN.ipynb#X41sZmlsZQ%3D%3D?line=9'>10</a>\u001b[0m generate_and_save_images(gen_model, epoch \u001b[39m+\u001b[39m\u001b[39m1\u001b[39m, seed)\n",
      "\u001b[1;32mc:\\Users\\Matthew\\Dropbox\\T885-2\\GANs\\GAN\\Digit_GAN.ipynb Cell 30\u001b[0m in \u001b[0;36mgradient_tuning\u001b[1;34m(images)\u001b[0m\n\u001b[0;32m     <a href='vscode-notebook-cell:/c%3A/Users/Matthew/Dropbox/T885-2/GANs/GAN/Digit_GAN.ipynb#X41sZmlsZQ%3D%3D?line=29'>30</a>\u001b[0m gen_optimizer\u001b[39m.\u001b[39mapply_gradients(\u001b[39mzip\u001b[39m(gen_gradients, gen_model\u001b[39m.\u001b[39mtrainable_variables))\n\u001b[0;32m     <a href='vscode-notebook-cell:/c%3A/Users/Matthew/Dropbox/T885-2/GANs/GAN/Digit_GAN.ipynb#X41sZmlsZQ%3D%3D?line=31'>32</a>\u001b[0m \u001b[39m# same as above to discriminator\u001b[39;00m\n\u001b[1;32m---> <a href='vscode-notebook-cell:/c%3A/Users/Matthew/Dropbox/T885-2/GANs/GAN/Digit_GAN.ipynb#X41sZmlsZQ%3D%3D?line=32'>33</a>\u001b[0m descri_optimizer\u001b[39m.\u001b[39mapply_gradients(\u001b[39mzip\u001b[39;49m(discri_gradients, descri_model))\n",
      "\u001b[1;31mTypeError\u001b[0m: 'Sequential' object is not iterable"
     ]
    }
   ],
   "source": [
    "# The model training is now started with a call to this train method\n",
    "train(train_dataset, EPOCHS)"
   ]
  },
  {
   "cell_type": "code",
   "execution_count": null,
   "metadata": {},
   "outputs": [],
   "source": []
  }
 ],
 "metadata": {
  "kernelspec": {
   "display_name": "Python 3.10.6 64-bit (windows store)",
   "language": "python",
   "name": "python3"
  },
  "language_info": {
   "codemirror_mode": {
    "name": "ipython",
    "version": 3
   },
   "file_extension": ".py",
   "mimetype": "text/x-python",
   "name": "python",
   "nbconvert_exporter": "python",
   "pygments_lexer": "ipython3",
   "version": "3.10.7"
  },
  "orig_nbformat": 4,
  "vscode": {
   "interpreter": {
    "hash": "b4d981aab3083155095c2c074466ed07152749282d0ee32df655ab9e7e91ca8e"
   }
  }
 },
 "nbformat": 4,
 "nbformat_minor": 2
}
